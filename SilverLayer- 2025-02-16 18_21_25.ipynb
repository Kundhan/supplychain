{
 "cells": [
  {
   "cell_type": "code",
   "execution_count": 0,
   "metadata": {
    "application/vnd.databricks.v1+cell": {
     "cellMetadata": {},
     "inputWidgets": {},
     "nuid": "65b8a8a2-fa0f-4c4b-8dc7-aa5f59d5dfe7",
     "showTitle": false,
     "tableResultSettingsMap": {},
     "title": ""
    }
   },
   "outputs": [],
   "source": [
    "## Task 2 ,Silver layer (Enriching and cleaning of the data)\n",
    "## \n",
    "# Read from Bronze Layer and join with other sources to enrich or filter the data\n",
    "df_bronze = spark.readStream.format(\"delta\").load(\"abfss://bronze@storage.dfs.core.windows.net/inventory/\")\n",
    "\n",
    "# Join with supplier data\n",
    "df_silver = df_bronze.alias(\"b\") \\\n",
    "    .join(spark.read.format(\"delta\").load(\"abfss://silver@storage.dfs.core.windows.net/win_data/\").alias(\"s\"),\n",
    "          col(\"s.purchase_order\") == col(\"b.purchase_order\"), \"left\") \\\n",
    "    .select(\n",
    "        col(\"b.product_id\"), \n",
    "        col(\"b.store_id\"), \n",
    "        col(\"b.event_time\"),\n",
    "        when(col(\"b.event_time\").isNotNNUll(),from_utc_timestamp(col(\"b.event_time\"),\"EST\")).otherwise(None).alias(\"event_time_est\"),\n",
    "        col(\"b.quantity\"), \n",
    "        col(\"b.temperature\"), \n",
    "        col(\"s.supplier_name\"),\n",
    "        col(\"s.category\")\n",
    "    ) \\\n",
    "    .where(col(\"b.shipment_id\").isNotNull) # Fetching the details of the shipments and vendors that have sensors\n",
    "\n",
    "# Write to Delta Table (Silver Layer)\n",
    "df_silver.writeStream \\\n",
    "    .format(\"delta\") \\\n",
    "    .option(\"checkpointLocation\", \"abfss://silver@storage.dfs.core.windows.net/checkpoints/\") \\\n",
    "    .option(\"path\", \"abfss://silver@storage.dfs.core.windows.net/shipments_deltatrak_sensors/\") \\\n",
    "    .outputMode(\"append\") \\\n",
    "    .start()"
   ]
  }
 ],
 "metadata": {
  "application/vnd.databricks.v1+notebook": {
   "computePreferences": null,
   "dashboards": [],
   "environmentMetadata": {
    "base_environment": "",
    "environment_version": "2"
   },
   "language": "python",
   "notebookMetadata": {
    "pythonIndentUnit": 4
   },
   "notebookName": "SilverLayer- 2025-02-16 18_21_25",
   "widgets": {}
  },
  "language_info": {
   "name": "python"
  }
 },
 "nbformat": 4,
 "nbformat_minor": 0
}
