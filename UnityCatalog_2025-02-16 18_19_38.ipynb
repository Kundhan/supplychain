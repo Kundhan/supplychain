{
 "cells": [
  {
   "cell_type": "code",
   "execution_count": 0,
   "metadata": {
    "application/vnd.databricks.v1+cell": {
     "cellMetadata": {},
     "inputWidgets": {},
     "nuid": "4ab633e8-e589-41fb-9a07-fa418eb8aaa1",
     "showTitle": false,
     "tableResultSettingsMap": {},
     "title": ""
    }
   },
   "outputs": [],
   "source": [
    "%sql\n",
    "-- implementing unity catalog governance\n",
    "-- Hierarchy is Catalog, Schema, Tables,Columns\n",
    "CREATE CATALOG IF NOT EXISTS scdf;\n",
    "CREATE SCHEMA IF NOT EXISTS scdf.bronze;\n",
    "CREATE SCHEMA IF NOT EXISTS scdf.silver;\n",
    "CREATE SCHEMA IF NOT EXISTS scdf.gold;\n",
    "\n",
    "-- Hierarchy is Catalog, Schema, Tables,Columns\n",
    "CREATE CATALOG IF NOT EXISTS scdf;\n",
    "CREATE SCHEMA IF NOT EXISTS scdf.silver;\n",
    "CREATE SCHEMA IF NOT EXISTS scdf.gold;\n",
    "\n",
    "--one time creation\n",
    "CREATE EXTERNAL LOCATION silver_storage\n",
    "URL 'abfss://silver@storage.dfs.core.windows.net/'\n",
    "WITH (STORAGE CREDENTIAL my_storage_credential);\n",
    "\n",
    "--one time creation\n",
    "CREATE EXTERNAL LOCATION gold_storage\n",
    "URL 'abfss://gold@storage.dfs.core.windows.net/'\n",
    "WITH (STORAGE CREDENTIAL my_storage_credential);\n",
    "\n",
    "CREATE TABLE IF NOT EXISTS scdf.silver.shipment_summary_sensors\n",
    "USING DELTA\n",
    "LOCATION 'abfss://silver@storage.dfs.core.windows.net/inventory_cleaned/';\n",
    "\n",
    "\n"
   ]
  }
 ],
 "metadata": {
  "application/vnd.databricks.v1+notebook": {
   "computePreferences": null,
   "dashboards": [],
   "environmentMetadata": {
    "base_environment": "",
    "environment_version": "2"
   },
   "language": "python",
   "notebookMetadata": {
    "pythonIndentUnit": 4
   },
   "notebookName": "UnityCatalog_2025-02-16 18_19_38",
   "widgets": {}
  },
  "language_info": {
   "name": "python"
  }
 },
 "nbformat": 4,
 "nbformat_minor": 0
}
