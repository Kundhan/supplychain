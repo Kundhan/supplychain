{
 "cells": [
  {
   "cell_type": "code",
   "execution_count": 0,
   "metadata": {
    "application/vnd.databricks.v1+cell": {
     "cellMetadata": {},
     "inputWidgets": {},
     "nuid": "97cc9379-5bf5-437b-a676-0d9d012b8433",
     "showTitle": false,
     "tableResultSettingsMap": {},
     "title": ""
    }
   },
   "outputs": [],
   "source": [
    "%sql\n",
    "\n",
    "-- Write consumption view logic\n",
    "CREATE TABLE if not exists scdf.gold.consumption_table \n",
    "USING DELTA \n",
    "AS\n",
    "SELECT \n",
    "  store_id, \n",
    "  product_id, \n",
    "  SUM(quantity) AS total_stock, \n",
    "  MAX(event_time) AS last_update\n",
    "FROM scdf.silver.shipment_summary_sensors\n",
    "GROUP BY store_id, product_id;\n"
   ]
  }
 ],
 "metadata": {
  "application/vnd.databricks.v1+notebook": {
   "computePreferences": null,
   "dashboards": [],
   "environmentMetadata": {
    "base_environment": "",
    "environment_version": "2"
   },
   "language": "python",
   "notebookMetadata": {
    "pythonIndentUnit": 4
   },
   "notebookName": "GoldLayer_consumption- 2025-02-16 18_21_57",
   "widgets": {}
  },
  "language_info": {
   "name": "python"
  }
 },
 "nbformat": 4,
 "nbformat_minor": 0
}
